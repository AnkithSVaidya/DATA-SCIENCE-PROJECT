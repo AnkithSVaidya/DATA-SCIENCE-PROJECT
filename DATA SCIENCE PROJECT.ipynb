{
  "nbformat": 4,
  "nbformat_minor": 0,
  "metadata": {
    "colab": {
      "name": "Untitled6.ipynb",
      "provenance": []
    },
    "kernelspec": {
      "name": "python3",
      "display_name": "Python 3"
    }
  },
  "cells": [
    {
      "cell_type": "markdown",
      "metadata": {
        "id": "b2jJwA6zHiGE"
      },
      "source": [
        "**DATA SCIENCE PROJECT:**\n",
        "So, where are we droppin' boys and girls?\n",
        "Battle Royale-style video games have taken the world by storm. 100 players are dropped onto an island\n",
        "empty-handed and must explore, scavenge, and eliminate other players until only one is left standing, all\n",
        "while the play zone continues to shrink.\n",
        "PlayerUnknown's BattleGrounds (PUBG) has enjoyed massive popularity. With over 50 million copies\n",
        "sold, it's the fifth best selling game of all time, and has millions of active monthly players.\n",
        "The team at PUBG has made official game data available for the public to explore and scavenge outside\n",
        "of \"The Blue Circle.\" This competition is not an official or affiliated PUBG site - Kaggle collected data made\n",
        "possible through the PUBG Developer API.\n",
        "You are given over 65,000 games' worth of anonymized player data, split into training and testing sets,\n",
        "and asked to predict final placement from final in-game stats and initial player ratings.\n",
        "What's the best strategy to win in PUBG? Should you sit in one spot and hide your way into victory, or do\n",
        "you need to be the top shot? Let's let the data do the talking!\n",
        "Dataset’s columns Description:\n",
        "groupId - Integer ID to identify a group within a match. If the same group of players plays in different\n",
        "matches, they will have a different groupId each time.\n",
        "matchId - Integer ID to identify match. There are no matches that are in both the training and testing set.\n",
        "assists - Number of enemy players this player damaged that were killed by teammates.\n",
        "boosts - Number of boost items used.\n",
        "damageDealt - Total damage dealt. Note: Self inflicted damage is subtracted.\n",
        "DBNOs - Number of enemy players knocked.\n",
        "headshotKills - Number of enemy players killed with headshots.\n",
        "heals - Number of healing items used.\n",
        "killPlace - Ranking in match of number of enemy players killed.\n",
        "killPoints - Kills-based external ranking of player. (Think of this as an Elo ranking where only kills matter.)\n",
        "kills - Number of enemy players killed.\n",
        "killStreaks - Max number of enemy players killed in a short amount of time.\n",
        "longestKill - Longest distance between player and player killed at time of death. This may be misleading,\n",
        "as downing a - player and driving away may lead to a large longestKill stat.\n",
        "maxPlace - Worst placement we have data for in the match. This may not match with numGroups, as\n",
        "sometimes the data skips over placements.\n",
        "numGroups - Number of groups we have data for in the match.\n",
        "revives - Number of times this player revived teammates.\n",
        "rideDistance - Total distance traveled in vehicles measured in meters.\n",
        "roadKills - Number of kills while in a vehicle.\n",
        "swimDistance - Total distance traveled by swimming measured in meters.\n",
        "teamKills - Number of times this player killed a teammate.\n",
        "vehicleDestroys - Number of vehicles destroyed.\n",
        "walkDistance - Total distance traveled on foot measured in meters.\n",
        "weaponsAcquired - Number of weapons picked up.\n",
        "winPoints - Win-based external ranking of player. (Think of this as an Elo ranking where only winning\n",
        "matters.)\n",
        "winPlacePerc - The target of prediction. This is a percentile winning placement, where 1 corresponds to\n",
        "1st place, and 0 corresponds to last place in the match. It is calculated off of maxPlace, not numGroups,\n",
        "so it is possible to have missing chunks in a match.\n",
        "\n",
        "Tasks to be performed:\n",
        "1. Read the dataset.\n",
        "2. Check the datatype of all the columns.\n",
        "3. Find the summary of all the numerical columns and write your findings about it.\n",
        "4. The average person kills how many players?\n",
        "5. 99% of people have how many kills?\n",
        "6. The most kills ever recorded are how much?\n",
        "7. Print all the columns of the dataframe.\n",
        "8. Comment on distribution of the match's duration. Use seaborn.\n",
        "9. Comment on distribution of the walk distance. Use seaborn.\n",
        "10. Plot distribution of the match's duration vs walk distance one below the other.\n",
        "11. Plot distribution of the match's duration vs walk distance side by side.\n",
        "12. Pairplot the dataframe. Comment on kills vs damage dealt, Comment on maxPlace vs numGroups.\n",
        "13. How many unique values are there in 'matchType' and what are their counts?\n",
        "14. Plot a barplot of ‘matchType’ vs 'killPoints'. Write your inferences.\n",
        "15. Plot a barplot of ‘matchType’ vs ‘weaponsAcquired’. Write your inferences.\n",
        "16. Find the Categorical columns.\n",
        "17. Plot a boxplot of ‘matchType’ vs ‘winPlacePerc’. Write your inferences.\n",
        "18. Plot a boxplot of ‘matchType’ vs ‘matchDuration’. Write your inferences.\n",
        "19. Change the orientation of the above plot to horizontal.\n",
        "20. Add a new column called ‘KILL’ which contains the sum of following columns viz. headshotKills,\n",
        "teamKills, roadKills.\n",
        "21. Round off column ‘winPlacePerc’ to 2 decimals.\n",
        "22. Take a sample of size 50 from the column damageDealt for 100 times and calculate its mean. Plot\n",
        "it on a histogram and comment on its distribution.\n"
      ]
    },
    {
      "cell_type": "code",
      "metadata": {
        "id": "DFHwf17bHhFW"
      },
      "source": [
        "import numpy as np\n",
        "import matplotlib.pyplot as plt\n",
        "import pandas as pd\n",
        "import seaborn as sns"
      ],
      "execution_count": null,
      "outputs": []
    },
    {
      "cell_type": "code",
      "metadata": {
        "id": "_bfpe6kEJiS3"
      },
      "source": [
        "data= pd.read_csv('C:\\\\Users\\\\Ankith S Vaidya\\\\Desktop\\\\Data Science\\\\pubg - Dr. Darshan Ingle')\n",
        "data.head()"
      ],
      "execution_count": null,
      "outputs": []
    },
    {
      "cell_type": "code",
      "metadata": {
        "id": "kkiDa7HMJmDC"
      },
      "source": [
        "data.info()"
      ],
      "execution_count": null,
      "outputs": []
    },
    {
      "cell_type": "code",
      "metadata": {
        "id": "zEOJiMtmJYqc"
      },
      "source": [
        "data.describe()"
      ],
      "execution_count": null,
      "outputs": []
    },
    {
      "cell_type": "code",
      "metadata": {
        "id": "Ra14v2m7JoFh"
      },
      "source": [
        "print(\"The average person kills\",data['kills'].mean(),\"players.\")"
      ],
      "execution_count": null,
      "outputs": []
    },
    {
      "cell_type": "code",
      "metadata": {
        "id": "j_OwUgoNJ30o"
      },
      "source": [
        "print(\"The most kills ever recorded:\",data['kills'].max())"
      ],
      "execution_count": null,
      "outputs": []
    },
    {
      "cell_type": "code",
      "metadata": {
        "id": "6Tg7O5mZKHEg"
      },
      "source": [
        "data.columns"
      ],
      "execution_count": null,
      "outputs": []
    },
    {
      "cell_type": "code",
      "metadata": {
        "id": "ZQOM4zHQKGpW"
      },
      "source": [
        "sns.distplot(data['matchDuration']);\n",
        "\n",
        "print(\"Within 1250 to 1500, match duration is high.\")"
      ],
      "execution_count": null,
      "outputs": []
    },
    {
      "cell_type": "code",
      "metadata": {
        "id": "LoyQYBb2Kaa9"
      },
      "source": [
        "sns.displot(data['walkDistance']);"
      ],
      "execution_count": null,
      "outputs": []
    },
    {
      "cell_type": "code",
      "metadata": {
        "id": "aCZWLpnRKoz_"
      },
      "source": [
        "plt.style.use('seaborn')\n",
        "plt.figure()\n",
        "plt.subplot(2,1,1)\n",
        "plt.plot(data['matchDuration'],'-')\n",
        "plt.subplot(2,1,2)\n",
        "plt.plot(data['walkDistance'],'-');"
      ],
      "execution_count": null,
      "outputs": []
    },
    {
      "cell_type": "code",
      "metadata": {
        "id": "nHFFy0IALN2M"
      },
      "source": [
        "plt.figure(figsize=(10,3))\n",
        "plt.subplot(1,2,1)\n",
        "plt.plot(data['matchDuration'],'-')\n",
        "plt.subplot(1,2,2)\n",
        "plt.plot(data['walkDistance'],'-');"
      ],
      "execution_count": null,
      "outputs": []
    },
    {
      "cell_type": "code",
      "metadata": {
        "id": "ZrFOtpXjL97a"
      },
      "source": [
        "sns.pairplot(data);"
      ],
      "execution_count": null,
      "outputs": []
    },
    {
      "cell_type": "code",
      "metadata": {
        "id": "KhHW7-E1MGSn"
      },
      "source": [
        "data['matchType'].value_counts()"
      ],
      "execution_count": null,
      "outputs": []
    },
    {
      "cell_type": "code",
      "metadata": {
        "id": "Pv_SEbbuMNXz"
      },
      "source": [
        "sns.barplot(x='matchType',y='killPoints',data=data);\n",
        "plt.xticks(rotation=70);"
      ],
      "execution_count": null,
      "outputs": []
    },
    {
      "cell_type": "code",
      "metadata": {
        "id": "3pAErvrJMe2f"
      },
      "source": [
        "sns.barplot(x='matchType',y='weaponsAcquired',data=data);\n",
        "plt.xticks(rotation=70);"
      ],
      "execution_count": null,
      "outputs": []
    },
    {
      "cell_type": "code",
      "metadata": {
        "id": "S1ROa9xZMziL"
      },
      "source": [
        "data.select_dtypes(['category']).columns"
      ],
      "execution_count": null,
      "outputs": []
    },
    {
      "cell_type": "code",
      "metadata": {
        "id": "Md_sOCKsM-3a"
      },
      "source": [
        "sns.boxplot(x='matchType',y='winPlacePerc',data=data);\n",
        "plt.xticks(rotation=70);"
      ],
      "execution_count": null,
      "outputs": []
    },
    {
      "cell_type": "code",
      "metadata": {
        "id": "mGFKYSLYNRIU"
      },
      "source": [
        "sns.boxplot(x='matchType',y='matchDuration',data=data);\n",
        "plt.xticks(rotation=70);"
      ],
      "execution_count": null,
      "outputs": []
    },
    {
      "cell_type": "code",
      "metadata": {
        "id": "1l8BG0XlNeP2"
      },
      "source": [
        "sns.boxplot(x='matchDuration',y='matchType',data=data);\n",
        "plt.xticks(rotation=70);"
      ],
      "execution_count": null,
      "outputs": []
    },
    {
      "cell_type": "code",
      "metadata": {
        "id": "CrpSzzwdNu46"
      },
      "source": [
        "data['KILL'] = data['headshotKills'] + data['teamKills'] + data['roadKills']\n",
        "data['KILL']"
      ],
      "execution_count": null,
      "outputs": []
    },
    {
      "cell_type": "code",
      "metadata": {
        "id": "FE_Zr-DaOI9R"
      },
      "source": [
        "data['winPlacePerc'] = round(data['winPlacePerc'], 2)\n",
        "data['winPlacePerc']"
      ],
      "execution_count": null,
      "outputs": []
    },
    {
      "cell_type": "code",
      "metadata": {
        "id": "uZW11C32Otwj"
      },
      "source": [
        "data_arr = []\n",
        "for i in range(100):\n",
        "  data_arr.append(data['damageDealt'].sample(50).mean())\n",
        "\n",
        "sns.distplot(data_arr);\n",
        "plt.xlabel('damageDealt');"
      ],
      "execution_count": null,
      "outputs": []
    }
  ]
}